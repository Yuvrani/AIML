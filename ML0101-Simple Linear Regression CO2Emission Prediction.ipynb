{
 "cells": [
  {
   "cell_type": "markdown",
   "metadata": {},
   "source": [
    "#### Importing Packages"
   ]
  },
  {
   "cell_type": "code",
   "execution_count": 2,
   "metadata": {},
   "outputs": [],
   "source": [
    "import pandas as pd\n",
    "import numpy as np\n",
    "import matplotlib.pyplot as plt\n"
   ]
  },
  {
   "cell_type": "markdown",
   "metadata": {},
   "source": [
    "#### Reading the dataset"
   ]
  },
  {
   "cell_type": "code",
   "execution_count": 3,
   "metadata": {},
   "outputs": [],
   "source": [
    "df = pd.read_csv(\"Fuel Consumption Ratings.csv\")"
   ]
  },
  {
   "cell_type": "markdown",
   "metadata": {},
   "source": [
    "#### Data Exploration"
   ]
  },
  {
   "cell_type": "code",
   "execution_count": 5,
   "metadata": {},
   "outputs": [
    {
     "data": {
      "text/html": [
       "<div>\n",
       "<style scoped>\n",
       "    .dataframe tbody tr th:only-of-type {\n",
       "        vertical-align: middle;\n",
       "    }\n",
       "\n",
       "    .dataframe tbody tr th {\n",
       "        vertical-align: top;\n",
       "    }\n",
       "\n",
       "    .dataframe thead th {\n",
       "        text-align: right;\n",
       "    }\n",
       "</style>\n",
       "<table border=\"1\" class=\"dataframe\">\n",
       "  <thead>\n",
       "    <tr style=\"text-align: right;\">\n",
       "      <th></th>\n",
       "      <th>MODEL</th>\n",
       "      <th>ENGINESIZE</th>\n",
       "      <th>CYLINDERS</th>\n",
       "      <th>FUELCONSUMP_CITY_LPER100KM</th>\n",
       "      <th>FUELCONSUMP_HWY_LPER100KM</th>\n",
       "      <th>FUELCONSUMP_COMB_LPER100KM</th>\n",
       "      <th>FUELCONSUMP_COMB_MPG</th>\n",
       "      <th>CO2EMISSIONS</th>\n",
       "    </tr>\n",
       "  </thead>\n",
       "  <tbody>\n",
       "    <tr>\n",
       "      <th>count</th>\n",
       "      <td>1030.0</td>\n",
       "      <td>1030.000000</td>\n",
       "      <td>1030.000000</td>\n",
       "      <td>1030.000000</td>\n",
       "      <td>1030.000000</td>\n",
       "      <td>1030.000000</td>\n",
       "      <td>1030.000000</td>\n",
       "      <td>1030.000000</td>\n",
       "    </tr>\n",
       "    <tr>\n",
       "      <th>mean</th>\n",
       "      <td>2010.0</td>\n",
       "      <td>3.556311</td>\n",
       "      <td>6.075728</td>\n",
       "      <td>14.280777</td>\n",
       "      <td>10.225534</td>\n",
       "      <td>12.453495</td>\n",
       "      <td>24.156311</td>\n",
       "      <td>278.017476</td>\n",
       "    </tr>\n",
       "    <tr>\n",
       "      <th>std</th>\n",
       "      <td>0.0</td>\n",
       "      <td>1.341342</td>\n",
       "      <td>1.961756</td>\n",
       "      <td>3.902699</td>\n",
       "      <td>2.571292</td>\n",
       "      <td>3.271665</td>\n",
       "      <td>6.022942</td>\n",
       "      <td>63.077148</td>\n",
       "    </tr>\n",
       "    <tr>\n",
       "      <th>min</th>\n",
       "      <td>2010.0</td>\n",
       "      <td>1.000000</td>\n",
       "      <td>2.000000</td>\n",
       "      <td>4.700000</td>\n",
       "      <td>4.900000</td>\n",
       "      <td>4.800000</td>\n",
       "      <td>11.000000</td>\n",
       "      <td>110.000000</td>\n",
       "    </tr>\n",
       "    <tr>\n",
       "      <th>25%</th>\n",
       "      <td>2010.0</td>\n",
       "      <td>2.500000</td>\n",
       "      <td>4.000000</td>\n",
       "      <td>11.600000</td>\n",
       "      <td>8.500000</td>\n",
       "      <td>10.200000</td>\n",
       "      <td>20.000000</td>\n",
       "      <td>235.000000</td>\n",
       "    </tr>\n",
       "    <tr>\n",
       "      <th>50%</th>\n",
       "      <td>2010.0</td>\n",
       "      <td>3.500000</td>\n",
       "      <td>6.000000</td>\n",
       "      <td>13.500000</td>\n",
       "      <td>9.600000</td>\n",
       "      <td>11.700000</td>\n",
       "      <td>24.000000</td>\n",
       "      <td>267.000000</td>\n",
       "    </tr>\n",
       "    <tr>\n",
       "      <th>75%</th>\n",
       "      <td>2010.0</td>\n",
       "      <td>4.600000</td>\n",
       "      <td>8.000000</td>\n",
       "      <td>16.100000</td>\n",
       "      <td>11.700000</td>\n",
       "      <td>14.100000</td>\n",
       "      <td>28.000000</td>\n",
       "      <td>320.000000</td>\n",
       "    </tr>\n",
       "    <tr>\n",
       "      <th>max</th>\n",
       "      <td>2010.0</td>\n",
       "      <td>8.400000</td>\n",
       "      <td>16.000000</td>\n",
       "      <td>30.000000</td>\n",
       "      <td>19.900000</td>\n",
       "      <td>24.600000</td>\n",
       "      <td>59.000000</td>\n",
       "      <td>566.000000</td>\n",
       "    </tr>\n",
       "  </tbody>\n",
       "</table>\n",
       "</div>"
      ],
      "text/plain": [
       "        MODEL   ENGINESIZE    CYLINDERS  FUELCONSUMP_CITY_LPER100KM  \\\n",
       "count  1030.0  1030.000000  1030.000000                 1030.000000   \n",
       "mean   2010.0     3.556311     6.075728                   14.280777   \n",
       "std       0.0     1.341342     1.961756                    3.902699   \n",
       "min    2010.0     1.000000     2.000000                    4.700000   \n",
       "25%    2010.0     2.500000     4.000000                   11.600000   \n",
       "50%    2010.0     3.500000     6.000000                   13.500000   \n",
       "75%    2010.0     4.600000     8.000000                   16.100000   \n",
       "max    2010.0     8.400000    16.000000                   30.000000   \n",
       "\n",
       "       FUELCONSUMP_HWY_LPER100KM  FUELCONSUMP_COMB_LPER100KM  \\\n",
       "count                1030.000000                 1030.000000   \n",
       "mean                   10.225534                   12.453495   \n",
       "std                     2.571292                    3.271665   \n",
       "min                     4.900000                    4.800000   \n",
       "25%                     8.500000                   10.200000   \n",
       "50%                     9.600000                   11.700000   \n",
       "75%                    11.700000                   14.100000   \n",
       "max                    19.900000                   24.600000   \n",
       "\n",
       "       FUELCONSUMP_COMB_MPG  CO2EMISSIONS  \n",
       "count           1030.000000   1030.000000  \n",
       "mean              24.156311    278.017476  \n",
       "std                6.022942     63.077148  \n",
       "min               11.000000    110.000000  \n",
       "25%               20.000000    235.000000  \n",
       "50%               24.000000    267.000000  \n",
       "75%               28.000000    320.000000  \n",
       "max               59.000000    566.000000  "
      ]
     },
     "execution_count": 5,
     "metadata": {},
     "output_type": "execute_result"
    }
   ],
   "source": [
    "# Describe the dataset\n",
    "df.describe()"
   ]
  },
  {
   "cell_type": "markdown",
   "metadata": {},
   "source": [
    "##### Inferences from the above command result. \n",
    "###### We can find the total count as 1030 records and hence no missing values in any of the fields.\n",
    "###### We can also find the average value of each column. Here MODEL column has no significance since its the year field. \n",
    "###### Average CO2 emission value is 278.01 g/km\n",
    "###### Similarly we can find th minimum and maximum values of each feature. - Minimum CO2 emission levle is 110 g/km and maximum is 566 g/km\n",
    "###### Upon seeing the 25%, 50% and 75% values of all the fields except MODEL, it is identified that the plotting of these fields looks almost bell curve but may not be evenly distributed \n",
    "\n"
   ]
  },
  {
   "cell_type": "code",
   "execution_count": 8,
   "metadata": {},
   "outputs": [
    {
     "data": {
      "text/html": [
       "<div>\n",
       "<style scoped>\n",
       "    .dataframe tbody tr th:only-of-type {\n",
       "        vertical-align: middle;\n",
       "    }\n",
       "\n",
       "    .dataframe tbody tr th {\n",
       "        vertical-align: top;\n",
       "    }\n",
       "\n",
       "    .dataframe thead th {\n",
       "        text-align: right;\n",
       "    }\n",
       "</style>\n",
       "<table border=\"1\" class=\"dataframe\">\n",
       "  <thead>\n",
       "    <tr style=\"text-align: right;\">\n",
       "      <th></th>\n",
       "      <th>MODEL</th>\n",
       "      <th>MAKE</th>\n",
       "      <th>MODEL.1</th>\n",
       "      <th>VEHICLE CLASS</th>\n",
       "      <th>ENGINESIZE</th>\n",
       "      <th>CYLINDERS</th>\n",
       "      <th>TRANSMISSION</th>\n",
       "      <th>FUEL</th>\n",
       "      <th>FUELCONSUMP_CITY_LPER100KM</th>\n",
       "      <th>FUELCONSUMP_HWY_LPER100KM</th>\n",
       "      <th>FUELCONSUMP_COMB_LPER100KM</th>\n",
       "      <th>FUELCONSUMP_COMB_MPG</th>\n",
       "      <th>CO2EMISSIONS</th>\n",
       "    </tr>\n",
       "  </thead>\n",
       "  <tbody>\n",
       "    <tr>\n",
       "      <th>0</th>\n",
       "      <td>2010</td>\n",
       "      <td>ACURA</td>\n",
       "      <td>CSX</td>\n",
       "      <td>COMPACT</td>\n",
       "      <td>2.0</td>\n",
       "      <td>4</td>\n",
       "      <td>AS5</td>\n",
       "      <td>X</td>\n",
       "      <td>10.9</td>\n",
       "      <td>7.8</td>\n",
       "      <td>9.5</td>\n",
       "      <td>30</td>\n",
       "      <td>219</td>\n",
       "    </tr>\n",
       "    <tr>\n",
       "      <th>1</th>\n",
       "      <td>2010</td>\n",
       "      <td>ACURA</td>\n",
       "      <td>CSX</td>\n",
       "      <td>COMPACT</td>\n",
       "      <td>2.0</td>\n",
       "      <td>4</td>\n",
       "      <td>M5</td>\n",
       "      <td>X</td>\n",
       "      <td>10.0</td>\n",
       "      <td>7.6</td>\n",
       "      <td>8.9</td>\n",
       "      <td>32</td>\n",
       "      <td>205</td>\n",
       "    </tr>\n",
       "    <tr>\n",
       "      <th>2</th>\n",
       "      <td>2010</td>\n",
       "      <td>ACURA</td>\n",
       "      <td>CSX</td>\n",
       "      <td>COMPACT</td>\n",
       "      <td>2.0</td>\n",
       "      <td>4</td>\n",
       "      <td>M6</td>\n",
       "      <td>Z</td>\n",
       "      <td>11.6</td>\n",
       "      <td>8.1</td>\n",
       "      <td>10.0</td>\n",
       "      <td>28</td>\n",
       "      <td>230</td>\n",
       "    </tr>\n",
       "    <tr>\n",
       "      <th>3</th>\n",
       "      <td>2010</td>\n",
       "      <td>ACURA</td>\n",
       "      <td>MDX AWD</td>\n",
       "      <td>SUV</td>\n",
       "      <td>3.7</td>\n",
       "      <td>6</td>\n",
       "      <td>AS6</td>\n",
       "      <td>Z</td>\n",
       "      <td>14.8</td>\n",
       "      <td>11.3</td>\n",
       "      <td>13.2</td>\n",
       "      <td>21</td>\n",
       "      <td>304</td>\n",
       "    </tr>\n",
       "    <tr>\n",
       "      <th>4</th>\n",
       "      <td>2010</td>\n",
       "      <td>ACURA</td>\n",
       "      <td>RDX AWD TURBO</td>\n",
       "      <td>SUV</td>\n",
       "      <td>2.3</td>\n",
       "      <td>4</td>\n",
       "      <td>AS5</td>\n",
       "      <td>Z</td>\n",
       "      <td>13.2</td>\n",
       "      <td>10.3</td>\n",
       "      <td>11.9</td>\n",
       "      <td>24</td>\n",
       "      <td>274</td>\n",
       "    </tr>\n",
       "  </tbody>\n",
       "</table>\n",
       "</div>"
      ],
      "text/plain": [
       "   MODEL   MAKE        MODEL.1 VEHICLE CLASS  ENGINESIZE  CYLINDERS  \\\n",
       "0   2010  ACURA            CSX       COMPACT         2.0          4   \n",
       "1   2010  ACURA            CSX       COMPACT         2.0          4   \n",
       "2   2010  ACURA            CSX       COMPACT         2.0          4   \n",
       "3   2010  ACURA        MDX AWD           SUV         3.7          6   \n",
       "4   2010  ACURA  RDX AWD TURBO           SUV         2.3          4   \n",
       "\n",
       "  TRANSMISSION FUEL  FUELCONSUMP_CITY_LPER100KM  FUELCONSUMP_HWY_LPER100KM  \\\n",
       "0          AS5    X                        10.9                        7.8   \n",
       "1           M5    X                        10.0                        7.6   \n",
       "2           M6    Z                        11.6                        8.1   \n",
       "3          AS6    Z                        14.8                       11.3   \n",
       "4          AS5    Z                        13.2                       10.3   \n",
       "\n",
       "   FUELCONSUMP_COMB_LPER100KM  FUELCONSUMP_COMB_MPG  CO2EMISSIONS  \n",
       "0                         9.5                    30           219  \n",
       "1                         8.9                    32           205  \n",
       "2                        10.0                    28           230  \n",
       "3                        13.2                    21           304  \n",
       "4                        11.9                    24           274  "
      ]
     },
     "execution_count": 8,
     "metadata": {},
     "output_type": "execute_result"
    }
   ],
   "source": [
    "# Sample Data\n",
    "df.head()"
   ]
  },
  {
   "cell_type": "markdown",
   "metadata": {},
   "source": [
    "#### Select important Features"
   ]
  },
  {
   "cell_type": "code",
   "execution_count": 78,
   "metadata": {
    "scrolled": true
   },
   "outputs": [],
   "source": [
    "# As per the metadata - Estimated tailpipe carbon dioxide emissions (in grams per kilometre) are \n",
    "# based on fuel type and the combined fuel consumption rating.\n",
    "df_feature = df[[\"FUELCONSUMP_COMB_LPER100KM\",\"FUEL\",\"CO2EMISSIONS\"]]"
   ]
  },
  {
   "cell_type": "code",
   "execution_count": 57,
   "metadata": {},
   "outputs": [
    {
     "data": {
      "text/html": [
       "<div>\n",
       "<style scoped>\n",
       "    .dataframe tbody tr th:only-of-type {\n",
       "        vertical-align: middle;\n",
       "    }\n",
       "\n",
       "    .dataframe tbody tr th {\n",
       "        vertical-align: top;\n",
       "    }\n",
       "\n",
       "    .dataframe thead th {\n",
       "        text-align: right;\n",
       "    }\n",
       "</style>\n",
       "<table border=\"1\" class=\"dataframe\">\n",
       "  <thead>\n",
       "    <tr style=\"text-align: right;\">\n",
       "      <th></th>\n",
       "      <th>FUELCONSUMP_COMB_LPER100KM</th>\n",
       "      <th>FUEL</th>\n",
       "      <th>CO2EMISSIONS</th>\n",
       "    </tr>\n",
       "  </thead>\n",
       "  <tbody>\n",
       "    <tr>\n",
       "      <th>0</th>\n",
       "      <td>9.5</td>\n",
       "      <td>X</td>\n",
       "      <td>219</td>\n",
       "    </tr>\n",
       "    <tr>\n",
       "      <th>1</th>\n",
       "      <td>8.9</td>\n",
       "      <td>X</td>\n",
       "      <td>205</td>\n",
       "    </tr>\n",
       "    <tr>\n",
       "      <th>2</th>\n",
       "      <td>10.0</td>\n",
       "      <td>Z</td>\n",
       "      <td>230</td>\n",
       "    </tr>\n",
       "    <tr>\n",
       "      <th>3</th>\n",
       "      <td>13.2</td>\n",
       "      <td>Z</td>\n",
       "      <td>304</td>\n",
       "    </tr>\n",
       "    <tr>\n",
       "      <th>4</th>\n",
       "      <td>11.9</td>\n",
       "      <td>Z</td>\n",
       "      <td>274</td>\n",
       "    </tr>\n",
       "  </tbody>\n",
       "</table>\n",
       "</div>"
      ],
      "text/plain": [
       "   FUELCONSUMP_COMB_LPER100KM FUEL  CO2EMISSIONS\n",
       "0                         9.5    X           219\n",
       "1                         8.9    X           205\n",
       "2                        10.0    Z           230\n",
       "3                        13.2    Z           304\n",
       "4                        11.9    Z           274"
      ]
     },
     "execution_count": 57,
     "metadata": {},
     "output_type": "execute_result"
    }
   ],
   "source": [
    "df_feature.head()"
   ]
  },
  {
   "cell_type": "markdown",
   "metadata": {},
   "source": [
    "#### Identifying missing values"
   ]
  },
  {
   "cell_type": "code",
   "execution_count": 58,
   "metadata": {},
   "outputs": [
    {
     "data": {
      "text/plain": [
       "FUELCONSUMP_COMB_LPER100KM    0\n",
       "FUEL                          0\n",
       "CO2EMISSIONS                  0\n",
       "dtype: int64"
      ]
     },
     "execution_count": 58,
     "metadata": {},
     "output_type": "execute_result"
    }
   ],
   "source": [
    "# Identify if any null values\n",
    "df_feature.isnull().sum()"
   ]
  },
  {
   "cell_type": "code",
   "execution_count": 59,
   "metadata": {},
   "outputs": [
    {
     "data": {
      "text/plain": [
       "FUELCONSUMP_COMB_LPER100KM    0\n",
       "FUEL                          0\n",
       "CO2EMISSIONS                  0\n",
       "dtype: int64"
      ]
     },
     "execution_count": 59,
     "metadata": {},
     "output_type": "execute_result"
    }
   ],
   "source": [
    "# Identify if any \"?\" values\n",
    "df_feature.isin([\"?\"]).sum()"
   ]
  },
  {
   "cell_type": "code",
   "execution_count": 60,
   "metadata": {},
   "outputs": [
    {
     "data": {
      "text/plain": [
       "FUELCONSUMP_COMB_LPER100KM    0\n",
       "FUEL                          0\n",
       "CO2EMISSIONS                  0\n",
       "dtype: int64"
      ]
     },
     "execution_count": 60,
     "metadata": {},
     "output_type": "execute_result"
    }
   ],
   "source": [
    "# Identify if any \"? \" values\n",
    "df_feature.isin([\"? \"]).sum()"
   ]
  },
  {
   "cell_type": "markdown",
   "metadata": {},
   "source": [
    "#### There are no missing values"
   ]
  },
  {
   "cell_type": "markdown",
   "metadata": {},
   "source": [
    "#### We can do plotting of these features in histrogram"
   ]
  },
  {
   "cell_type": "code",
   "execution_count": 62,
   "metadata": {},
   "outputs": [
    {
     "data": {
      "image/png": "[encoded data removed]",
      "text/plain": [
       "<Figure size 432x288 with 2 Axes>"
      ]
     },
     "metadata": {
      "needs_background": "light"
     },
     "output_type": "display_data"
    }
   ],
   "source": [
    "viz = df_feature[[\"FUELCONSUMP_COMB_LPER100KM\",\"FUEL\",\"CO2EMISSIONS\"]]\n",
    "viz.hist()\n",
    "plt.show()"
   ]
  },
  {
   "cell_type": "markdown",
   "metadata": {},
   "source": [
    "#### We can do plotting of these features against the emission to check the linear relation"
   ]
  },
  {
   "cell_type": "code",
   "execution_count": 63,
   "metadata": {},
   "outputs": [
    {
     "data": {
      "image/png": "[encoded data removed]",
      "text/plain": [
       "<Figure size 432x288 with 1 Axes>"
      ]
     },
     "metadata": {
      "needs_background": "light"
     },
     "output_type": "display_data"
    }
   ],
   "source": [
    "plt.scatter(df_feature.CO2EMISSIONS, df_feature.FUELCONSUMP_COMB_LPER100KM,  color='red')\n",
    "plt.xlabel(\"CO2EMISSIONS\")\n",
    "plt.ylabel(\"FUELCONSUMP_COMB_LPER100KM\")\n",
    "plt.show()"
   ]
  },
  {
   "cell_type": "markdown",
   "metadata": {},
   "source": [
    "#### The relationship between CO2 emission and fuel combination seems tobe linear."
   ]
  },
  {
   "cell_type": "code",
   "execution_count": 64,
   "metadata": {},
   "outputs": [
    {
     "data": {
      "image/png": "[encoded data removed]",
      "text/plain": [
       "<Figure size 432x288 with 1 Axes>"
      ]
     },
     "metadata": {
      "needs_background": "light"
     },
     "output_type": "display_data"
    }
   ],
   "source": [
    "plt.scatter(df_feature.CO2EMISSIONS, df_feature.FUEL,  color='red')\n",
    "plt.xlabel(\"CO2EMISSIONS\")\n",
    "plt.ylabel(\"FUEL\")\n",
    "plt.show()"
   ]
  },
  {
   "cell_type": "markdown",
   "metadata": {},
   "source": [
    "#### Fuel is a categorical field. From the above plot we see that X ( Regular gasoline) and Z (Premium gasoline) are the ones \n",
    "#### which emit more CO2 compared to D (Diesel)"
   ]
  },
  {
   "cell_type": "markdown",
   "metadata": {},
   "source": [
    "#### Handling Categorical Field - Fuel - Dummy Encoding\n",
    "#### Removing the FUEL variable and replacing it with dummy variables"
   ]
  },
  {
   "cell_type": "code",
   "execution_count": 79,
   "metadata": {},
   "outputs": [],
   "source": [
    "df_feature = pd.concat([df_feature.drop('FUEL', axis=1), pd.get_dummies(df['FUEL'])], axis=1)"
   ]
  },
  {
   "cell_type": "code",
   "execution_count": 80,
   "metadata": {},
   "outputs": [
    {
     "data": {
      "text/html": [
       "<div>\n",
       "<style scoped>\n",
       "    .dataframe tbody tr th:only-of-type {\n",
       "        vertical-align: middle;\n",
       "    }\n",
       "\n",
       "    .dataframe tbody tr th {\n",
       "        vertical-align: top;\n",
       "    }\n",
       "\n",
       "    .dataframe thead th {\n",
       "        text-align: right;\n",
       "    }\n",
       "</style>\n",
       "<table border=\"1\" class=\"dataframe\">\n",
       "  <thead>\n",
       "    <tr style=\"text-align: right;\">\n",
       "      <th></th>\n",
       "      <th>FUELCONSUMP_COMB_LPER100KM</th>\n",
       "      <th>CO2EMISSIONS</th>\n",
       "      <th>D</th>\n",
       "      <th>E</th>\n",
       "      <th>X</th>\n",
       "      <th>Z</th>\n",
       "    </tr>\n",
       "  </thead>\n",
       "  <tbody>\n",
       "    <tr>\n",
       "      <th>0</th>\n",
       "      <td>9.5</td>\n",
       "      <td>219</td>\n",
       "      <td>0</td>\n",
       "      <td>0</td>\n",
       "      <td>1</td>\n",
       "      <td>0</td>\n",
       "    </tr>\n",
       "    <tr>\n",
       "      <th>1</th>\n",
       "      <td>8.9</td>\n",
       "      <td>205</td>\n",
       "      <td>0</td>\n",
       "      <td>0</td>\n",
       "      <td>1</td>\n",
       "      <td>0</td>\n",
       "    </tr>\n",
       "    <tr>\n",
       "      <th>2</th>\n",
       "      <td>10.0</td>\n",
       "      <td>230</td>\n",
       "      <td>0</td>\n",
       "      <td>0</td>\n",
       "      <td>0</td>\n",
       "      <td>1</td>\n",
       "    </tr>\n",
       "    <tr>\n",
       "      <th>3</th>\n",
       "      <td>13.2</td>\n",
       "      <td>304</td>\n",
       "      <td>0</td>\n",
       "      <td>0</td>\n",
       "      <td>0</td>\n",
       "      <td>1</td>\n",
       "    </tr>\n",
       "    <tr>\n",
       "      <th>4</th>\n",
       "      <td>11.9</td>\n",
       "      <td>274</td>\n",
       "      <td>0</td>\n",
       "      <td>0</td>\n",
       "      <td>0</td>\n",
       "      <td>1</td>\n",
       "    </tr>\n",
       "  </tbody>\n",
       "</table>\n",
       "</div>"
      ],
      "text/plain": [
       "   FUELCONSUMP_COMB_LPER100KM  CO2EMISSIONS  D  E  X  Z\n",
       "0                         9.5           219  0  0  1  0\n",
       "1                         8.9           205  0  0  1  0\n",
       "2                        10.0           230  0  0  0  1\n",
       "3                        13.2           304  0  0  0  1\n",
       "4                        11.9           274  0  0  0  1"
      ]
     },
     "execution_count": 80,
     "metadata": {},
     "output_type": "execute_result"
    }
   ],
   "source": [
    "df_feature.head()"
   ]
  },
  {
   "cell_type": "code",
   "execution_count": null,
   "metadata": {},
   "outputs": [],
   "source": [
    "#### Finding the correlation between fuel, combined fuel consumption (l/100 km) againt CO2 emission"
   ]
  },
  {
   "cell_type": "code",
   "execution_count": 87,
   "metadata": {},
   "outputs": [
    {
     "data": {
      "text/plain": [
       "D                            -0.055491\n",
       "E                             0.084113\n",
       "X                            -0.287996\n",
       "Z                             0.263720\n",
       "FUELCONSUMP_COMB_LPER100KM    0.894002\n",
       "CO2EMISSIONS                  1.000000\n",
       "Name: CO2EMISSIONS, dtype: float64"
      ]
     },
     "execution_count": 87,
     "metadata": {},
     "output_type": "execute_result"
    }
   ],
   "source": [
    "df_feature[['D', 'E', 'X','Z','FUELCONSUMP_COMB_LPER100KM','CO2EMISSIONS']].corr()['CO2EMISSIONS'][:]"
   ]
  },
  {
   "cell_type": "markdown",
   "metadata": {},
   "source": [
    "#### The above correlation value determines that fuel type Diesel has very significant relation with target. Where as Z (Premium gasoline)\n",
    "#### and E (Ethanol) has slight positive relationship with the target\n",
    "#### FUEL CONSUMPTION COMBINED (HIGHWAY and CITY (45%)) has strong positie relation with target\n",
    "#### Hence removing the FUEL feature from the dataset"
   ]
  },
  {
   "cell_type": "markdown",
   "metadata": {},
   "source": [
    "#### Train and Test Split"
   ]
  },
  {
   "cell_type": "code",
   "execution_count": 81,
   "metadata": {},
   "outputs": [],
   "source": [
    "# import the libraries\n",
    "from sklearn import linear_model\n",
    "from sklearn.model_selection import train_test_split"
   ]
  },
  {
   "cell_type": "code",
   "execution_count": 159,
   "metadata": {},
   "outputs": [],
   "source": [
    "# Creating dataframe with independent variables only\n",
    "X = df_feature[['FUELCONSUMP_COMB_LPER100KM']]"
   ]
  },
  {
   "cell_type": "code",
   "execution_count": 103,
   "metadata": {},
   "outputs": [],
   "source": [
    "# Creating dataframe with dependent (or) response variable only\n",
    "Y = df_feature['CO2EMISSIONS']"
   ]
  },
  {
   "cell_type": "code",
   "execution_count": 131,
   "metadata": {},
   "outputs": [],
   "source": [
    "X_train, X_test, Y_train, Y_test = train_test_split(X, Y, test_size = .20, random_state = 42)"
   ]
  },
  {
   "cell_type": "code",
   "execution_count": 132,
   "metadata": {},
   "outputs": [],
   "source": [
    "lreg = linear_model.LinearRegression()"
   ]
  },
  {
   "cell_type": "code",
   "execution_count": 133,
   "metadata": {},
   "outputs": [
    {
     "data": {
      "text/plain": [
       "LinearRegression(copy_X=True, fit_intercept=True, n_jobs=None, normalize=False)"
      ]
     },
     "execution_count": 133,
     "metadata": {},
     "output_type": "execute_result"
    }
   ],
   "source": [
    "lreg.fit (X_train, Y_train)"
   ]
  },
  {
   "cell_type": "code",
   "execution_count": 134,
   "metadata": {},
   "outputs": [
    {
     "name": "stdout",
     "output_type": "stream",
     "text": [
      "Coefficients:  [[16.85436255]]\n",
      "Intercept:  [67.36771007]\n"
     ]
    }
   ],
   "source": [
    "# The coefficients\n",
    "print ('Coefficients: ', lreg.coef_)\n",
    "print ('Intercept: ',lreg.intercept_)"
   ]
  },
  {
   "cell_type": "code",
   "execution_count": 143,
   "metadata": {},
   "outputs": [
    {
     "data": {
      "text/plain": [
       "numpy.ndarray"
      ]
     },
     "execution_count": 143,
     "metadata": {},
     "output_type": "execute_result"
    }
   ],
   "source": [
    "type(X_train)"
   ]
  },
  {
   "cell_type": "markdown",
   "metadata": {},
   "source": [
    "#### The coefficient of carbon dioxide emission is 16.854\n",
    "#### The intercept (or) constant in slope equation is 67.367\n",
    "#### i.e. Y^ = mX + C\n",
    "#### i.e Y^ = 16.854 * X + 67.367 --> is the simple linear equation that we have derived to get the best fit line  with minimum MSE (Mean Squared Error)\n"
   ]
  },
  {
   "cell_type": "markdown",
   "metadata": {},
   "source": [
    "## We can plot the best fit line derived against the actual train dataset points"
   ]
  },
  {
   "cell_type": "code",
   "execution_count": 154,
   "metadata": {},
   "outputs": [
    {
     "data": {
      "text/plain": [
       "Text(0, 0.5, 'CO2 Emission')"
      ]
     },
     "execution_count": 154,
     "metadata": {},
     "output_type": "execute_result"
    },
    {
     "data": {
      "image/png": "[encoded data removed]",
      "text/plain": [
       "<Figure size 432x288 with 1 Axes>"
      ]
     },
     "metadata": {
      "needs_background": "light"
     },
     "output_type": "display_data"
    }
   ],
   "source": [
    "plt.scatter(X_train, Y_train,  color='blue')\n",
    "plt.plot(X_train, lreg.coef_*X_train + lreg.intercept_, 'r+')\n",
    "plt.xlabel(\"Fuel Comsumption\")\n",
    "plt.ylabel(\"CO2 Emission\")"
   ]
  },
  {
   "cell_type": "markdown",
   "metadata": {},
   "source": [
    "#### Evaluation of the model"
   ]
  },
  {
   "cell_type": "code",
   "execution_count": 155,
   "metadata": {},
   "outputs": [],
   "source": [
    "#### Predicting the target values for the test data - X_test"
   ]
  },
  {
   "cell_type": "code",
   "execution_count": 156,
   "metadata": {},
   "outputs": [],
   "source": [
    "from sklearn.metrics import r2_score\n",
    "import math\n",
    "Y_predict = lreg.predict(X_test)"
   ]
  },
  {
   "cell_type": "markdown",
   "metadata": {},
   "source": [
    "#### printing Y_test and Y_predict values"
   ]
  },
  {
   "cell_type": "code",
   "execution_count": 157,
   "metadata": {},
   "outputs": [
    {
     "data": {
      "text/plain": [
       "Text(0, 0.5, 'CO2 Emission')"
      ]
     },
     "execution_count": 157,
     "metadata": {},
     "output_type": "execute_result"
    },
    {
     "data": {
      "image/png": "[encoded data removed]",
      "text/plain": [
       "<Figure size 432x288 with 1 Axes>"
      ]
     },
     "metadata": {
      "needs_background": "light"
     },
     "output_type": "display_data"
    }
   ],
   "source": [
    "plt.scatter(X_test, Y_test,  color='blue')\n",
    "plt.scatter(X_test, Y_predict,  color='red')\n",
    "plt.xlabel(\"Fuel Consumption Combined L/100km\")\n",
    "plt.ylabel(\"CO2 Emission\")"
   ]
  },
  {
   "cell_type": "code",
   "execution_count": 158,
   "metadata": {},
   "outputs": [
    {
     "name": "stdout",
     "output_type": "stream",
     "text": [
      "Mean Absolute Error = 20.0\n",
      "Mean Square Error = 872.0\n",
      "R Square =  0.7741633954614717\n"
     ]
    }
   ],
   "source": [
    "MAE = round(np.mean(np.absolute(Y_test - Y_predict)))\n",
    "MSE = round(np.mean((Y_test - Y_predict)**2))\n",
    "print(\"Mean Absolute Error = {}\".format(MAE))\n",
    "print(\"Mean Square Error = {}\".format(MSE))\n",
    "print(\"R Square = \",r2_score(Y_predict,Y_test))"
   ]
  }
 ],
 "metadata": {
  "kernelspec": {
   "display_name": "Python 3",
   "language": "python",
   "name": "python3"
  },
  "language_info": {
   "codemirror_mode": {
    "name": "ipython",
    "version": 3
   },
   "file_extension": ".py",
   "mimetype": "text/x-python",
   "name": "python",
   "nbconvert_exporter": "python",
   "pygments_lexer": "ipython3",
   "version": "3.7.6"
  }
 },
 "nbformat": 4,
 "nbformat_minor": 4
}
